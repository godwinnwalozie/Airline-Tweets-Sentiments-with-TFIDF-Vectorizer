{
 "cells": [
  {
   "cell_type": "markdown",
   "metadata": {},
   "source": [
    "## Airlines Tweets Sentiments\n",
    "### Negative, positive and neutral tweets about airlines companies\n",
    "     0 = Negative\n",
    "     1 = Neutral\n",
    "     2 = Positive"
   ]
  },
  {
   "cell_type": "markdown",
   "metadata": {},
   "source": [
    "## Importing all the necessary libraries"
   ]
  },
  {
   "cell_type": "code",
   "execution_count": 88,
   "metadata": {},
   "outputs": [],
   "source": [
    "import pandas as pd\n",
    "import numpy as np\n",
    "import matplotlib.pyplot as plt\n",
    "%matplotlib inline\n",
    "import seaborn as sns\n",
    "import dython\n",
    "from datetime import datetime\n",
    "from dateutil import parser\n",
    "import openpyxl\n",
    "import spacy\n",
    "sns.set_theme(style = 'whitegrid')"
   ]
  },
  {
   "cell_type": "code",
   "execution_count": 89,
   "metadata": {},
   "outputs": [
    {
     "data": {
      "text/html": [
       "<div>\n",
       "<style scoped>\n",
       "    .dataframe tbody tr th:only-of-type {\n",
       "        vertical-align: middle;\n",
       "    }\n",
       "\n",
       "    .dataframe tbody tr th {\n",
       "        vertical-align: top;\n",
       "    }\n",
       "\n",
       "    .dataframe thead th {\n",
       "        text-align: right;\n",
       "    }\n",
       "</style>\n",
       "<table border=\"1\" class=\"dataframe\">\n",
       "  <thead>\n",
       "    <tr style=\"text-align: right;\">\n",
       "      <th></th>\n",
       "      <th>_id</th>\n",
       "      <th>tweet_text</th>\n",
       "      <th>tweet_lang</th>\n",
       "      <th>tweet_sentiment_value</th>\n",
       "    </tr>\n",
       "  </thead>\n",
       "  <tbody>\n",
       "    <tr>\n",
       "      <th>0</th>\n",
       "      <td>595e60b48fcd022a715f7b7b</td>\n",
       "      <td>this @airfrance b777-300er has the oldest ifes...</td>\n",
       "      <td>en</td>\n",
       "      <td>0</td>\n",
       "    </tr>\n",
       "    <tr>\n",
       "      <th>1</th>\n",
       "      <td>595e60de8fcd022a715f7b7d</td>\n",
       "      <td>???? will miss my connection @airfrance https:...</td>\n",
       "      <td>en</td>\n",
       "      <td>0</td>\n",
       "    </tr>\n",
       "    <tr>\n",
       "      <th>2</th>\n",
       "      <td>595e61448fcd022a715f7b7f</td>\n",
       "      <td>@airfrance lost luggage in overhead cabin, ema...</td>\n",
       "      <td>en</td>\n",
       "      <td>0</td>\n",
       "    </tr>\n",
       "    <tr>\n",
       "      <th>3</th>\n",
       "      <td>595e62748fcd022a715f7b83</td>\n",
       "      <td>here's a new twist on the \"all airlines hate m...</td>\n",
       "      <td>en</td>\n",
       "      <td>0</td>\n",
       "    </tr>\n",
       "    <tr>\n",
       "      <th>4</th>\n",
       "      <td>595e62b28fcd022a715f7b86</td>\n",
       "      <td>@airfrance so now i might not have 3 pieces of...</td>\n",
       "      <td>en</td>\n",
       "      <td>0</td>\n",
       "    </tr>\n",
       "  </tbody>\n",
       "</table>\n",
       "</div>"
      ],
      "text/plain": [
       "                        _id  \\\n",
       "0  595e60b48fcd022a715f7b7b   \n",
       "1  595e60de8fcd022a715f7b7d   \n",
       "2  595e61448fcd022a715f7b7f   \n",
       "3  595e62748fcd022a715f7b83   \n",
       "4  595e62b28fcd022a715f7b86   \n",
       "\n",
       "                                          tweet_text tweet_lang  \\\n",
       "0  this @airfrance b777-300er has the oldest ifes...         en   \n",
       "1  ???? will miss my connection @airfrance https:...         en   \n",
       "2  @airfrance lost luggage in overhead cabin, ema...         en   \n",
       "3  here's a new twist on the \"all airlines hate m...         en   \n",
       "4  @airfrance so now i might not have 3 pieces of...         en   \n",
       "\n",
       "   tweet_sentiment_value  \n",
       "0                      0  \n",
       "1                      0  \n",
       "2                      0  \n",
       "3                      0  \n",
       "4                      0  "
      ]
     },
     "execution_count": 89,
     "metadata": {},
     "output_type": "execute_result"
    }
   ],
   "source": [
    "tweets = pd.read_csv('airline-tweets-sentiments.csv')\n",
    "tweets.head()"
   ]
  },
  {
   "cell_type": "code",
   "execution_count": 90,
   "metadata": {},
   "outputs": [
    {
     "data": {
      "text/plain": [
       "(1097, 4)"
      ]
     },
     "execution_count": 90,
     "metadata": {},
     "output_type": "execute_result"
    }
   ],
   "source": [
    "tweets.shape"
   ]
  },
  {
   "cell_type": "markdown",
   "metadata": {},
   "source": [
    "## Lets add a text label to show the sentiments"
   ]
  },
  {
   "cell_type": "code",
   "execution_count": 91,
   "metadata": {},
   "outputs": [
    {
     "data": {
      "text/plain": [
       "Neutral     502\n",
       "Negative    406\n",
       "Positive    189\n",
       "Name: label, dtype: int64"
      ]
     },
     "execution_count": 91,
     "metadata": {},
     "output_type": "execute_result"
    }
   ],
   "source": [
    "tweets[\"label\"] = tweets[\"tweet_sentiment_value\"].apply(lambda x: \"Negative\" if x == 0 else \"Neutral\" if x == 1 else \"Positive\" )\n",
    "label_count = tweets['label'].value_counts()\n",
    "label_count "
   ]
  },
  {
   "cell_type": "code",
   "execution_count": 92,
   "metadata": {},
   "outputs": [
    {
     "data": {
      "image/png": "[encoded data removed]",
      "text/plain": [
       "<Figure size 432x720 with 1 Axes>"
      ]
     },
     "metadata": {},
     "output_type": "display_data"
    }
   ],
   "source": [
    "label_count.plot(kind = 'pie', autopct = \"%.2f%%\", figsize = (6,10), \\\n",
    "    explode = (0.05, 0.05, 0.05), fontsize = 13, label = 'sentiment counts');"
   ]
  },
  {
   "cell_type": "markdown",
   "metadata": {},
   "source": [
    "## Preprocessing"
   ]
  },
  {
   "cell_type": "markdown",
   "metadata": {},
   "source": [
    "## Cleaning up data, removing special characters, removing stop words of no sematic value"
   ]
  },
  {
   "cell_type": "code",
   "execution_count": 93,
   "metadata": {},
   "outputs": [],
   "source": [
    "import preprocess_kgptalkie as ps  # import the cleaning package\n",
    "import re # regular expression"
   ]
  },
  {
   "cell_type": "code",
   "execution_count": 94,
   "metadata": {},
   "outputs": [],
   "source": [
    "def get_clean(x):\n",
    "    x = str(x).lower().replace('\\\\', '').replace('_', ' ')\n",
    "    x = ps.cont_exp(x)\n",
    "    x = ps.remove_emails(x)\n",
    "    x = ps.remove_urls(x)\n",
    "    x = ps.remove_html_tags(x)\n",
    "    x = ps.remove_rt(x)\n",
    "    x = ps.remove_accented_chars(x)\n",
    "    x = ps.remove_special_chars(x)\n",
    "    x = re.sub(\"(.)\\\\1{2,}\", \"\\\\1\", x)\n",
    "    return x"
   ]
  },
  {
   "cell_type": "markdown",
   "metadata": {},
   "source": [
    "## Apply the cleaning into the dataframe"
   ]
  },
  {
   "cell_type": "code",
   "execution_count": 95,
   "metadata": {},
   "outputs": [
    {
     "data": {
      "text/html": [
       "<div>\n",
       "<style scoped>\n",
       "    .dataframe tbody tr th:only-of-type {\n",
       "        vertical-align: middle;\n",
       "    }\n",
       "\n",
       "    .dataframe tbody tr th {\n",
       "        vertical-align: top;\n",
       "    }\n",
       "\n",
       "    .dataframe thead th {\n",
       "        text-align: right;\n",
       "    }\n",
       "</style>\n",
       "<table border=\"1\" class=\"dataframe\">\n",
       "  <thead>\n",
       "    <tr style=\"text-align: right;\">\n",
       "      <th></th>\n",
       "      <th>_id</th>\n",
       "      <th>tweet_text</th>\n",
       "      <th>tweet_lang</th>\n",
       "      <th>tweet_sentiment_value</th>\n",
       "      <th>label</th>\n",
       "    </tr>\n",
       "  </thead>\n",
       "  <tbody>\n",
       "    <tr>\n",
       "      <th>0</th>\n",
       "      <td>595e60b48fcd022a715f7b7b</td>\n",
       "      <td>this airfrance b7300er has the oldest ifes i h...</td>\n",
       "      <td>en</td>\n",
       "      <td>0</td>\n",
       "      <td>Negative</td>\n",
       "    </tr>\n",
       "    <tr>\n",
       "      <th>1</th>\n",
       "      <td>595e60de8fcd022a715f7b7d</td>\n",
       "      <td>will miss my connection airfrance</td>\n",
       "      <td>en</td>\n",
       "      <td>0</td>\n",
       "      <td>Negative</td>\n",
       "    </tr>\n",
       "    <tr>\n",
       "      <th>2</th>\n",
       "      <td>595e61448fcd022a715f7b7f</td>\n",
       "      <td>airfrance lost luggage in overhead cabin email...</td>\n",
       "      <td>en</td>\n",
       "      <td>0</td>\n",
       "      <td>Negative</td>\n",
       "    </tr>\n",
       "    <tr>\n",
       "      <th>3</th>\n",
       "      <td>595e62748fcd022a715f7b83</td>\n",
       "      <td>heres a new twist on the all airlines hate mus...</td>\n",
       "      <td>en</td>\n",
       "      <td>0</td>\n",
       "      <td>Negative</td>\n",
       "    </tr>\n",
       "    <tr>\n",
       "      <th>4</th>\n",
       "      <td>595e62b28fcd022a715f7b86</td>\n",
       "      <td>airfrance so now i might not have 3 pieces of ...</td>\n",
       "      <td>en</td>\n",
       "      <td>0</td>\n",
       "      <td>Negative</td>\n",
       "    </tr>\n",
       "  </tbody>\n",
       "</table>\n",
       "</div>"
      ],
      "text/plain": [
       "                        _id  \\\n",
       "0  595e60b48fcd022a715f7b7b   \n",
       "1  595e60de8fcd022a715f7b7d   \n",
       "2  595e61448fcd022a715f7b7f   \n",
       "3  595e62748fcd022a715f7b83   \n",
       "4  595e62b28fcd022a715f7b86   \n",
       "\n",
       "                                          tweet_text tweet_lang  \\\n",
       "0  this airfrance b7300er has the oldest ifes i h...         en   \n",
       "1                  will miss my connection airfrance         en   \n",
       "2  airfrance lost luggage in overhead cabin email...         en   \n",
       "3  heres a new twist on the all airlines hate mus...         en   \n",
       "4  airfrance so now i might not have 3 pieces of ...         en   \n",
       "\n",
       "   tweet_sentiment_value     label  \n",
       "0                      0  Negative  \n",
       "1                      0  Negative  \n",
       "2                      0  Negative  \n",
       "3                      0  Negative  \n",
       "4                      0  Negative  "
      ]
     },
     "execution_count": 95,
     "metadata": {},
     "output_type": "execute_result"
    }
   ],
   "source": [
    "tweets[\"tweet_text\"] = tweets[\"tweet_text\"].apply( lambda  x: get_clean(x))\n",
    "tweets.head()"
   ]
  },
  {
   "cell_type": "markdown",
   "metadata": {},
   "source": [
    "## Split data into X and y"
   ]
  },
  {
   "cell_type": "code",
   "execution_count": 96,
   "metadata": {},
   "outputs": [],
   "source": [
    "X = tweets[\"tweet_text\"]\n",
    "y =np.array( tweets[\"label\"])\n"
   ]
  },
  {
   "cell_type": "code",
   "execution_count": 97,
   "metadata": {},
   "outputs": [],
   "source": [
    "from sklearn.feature_extraction.text import TfidfVectorizer"
   ]
  },
  {
   "cell_type": "code",
   "execution_count": 98,
   "metadata": {},
   "outputs": [],
   "source": [
    "vectorizer = TfidfVectorizer(max_features = 5000, ngram_range =(1,2))"
   ]
  },
  {
   "cell_type": "code",
   "execution_count": 120,
   "metadata": {},
   "outputs": [
    {
     "data": {
      "text/plain": [
       "array(['003490', '08', '10', '10 days', '10 years', '100', '100am',\n",
       "       '100am jul', '10th', '11', '12', '12th', '13', '1324', '14',\n",
       "       '14 days', '15', '15 min', '195', '195 per'], dtype=object)"
      ]
     },
     "execution_count": 120,
     "metadata": {},
     "output_type": "execute_result"
    }
   ],
   "source": [
    "vectorizer.get_feature_names_out()[:20]"
   ]
  },
  {
   "cell_type": "code",
   "execution_count": 99,
   "metadata": {},
   "outputs": [],
   "source": [
    "X = vectorizer.fit_transform(X)\n",
    "# y = vectorizer.fit_transform(y)"
   ]
  },
  {
   "cell_type": "code",
   "execution_count": 100,
   "metadata": {},
   "outputs": [],
   "source": [
    "from imblearn.over_sampling import SMOTE\n",
    "sm = SMOTE(random_state=0)\n",
    "X_res, y_res = sm.fit_resample(X, y)"
   ]
  },
  {
   "cell_type": "code",
   "execution_count": 101,
   "metadata": {},
   "outputs": [],
   "source": [
    "\n",
    "from sklearn.model_selection import train_test_split\n",
    "X_train, X_test, y_train, y_test = train_test_split(X_res, y_res, test_size = 0.3, random_state = 42)"
   ]
  },
  {
   "cell_type": "markdown",
   "metadata": {},
   "source": [
    "## TFIDF"
   ]
  },
  {
   "cell_type": "code",
   "execution_count": 102,
   "metadata": {},
   "outputs": [
    {
     "data": {
      "text/plain": [
       "(0.9778761061946902, 0.9667931688804554)"
      ]
     },
     "execution_count": 102,
     "metadata": {},
     "output_type": "execute_result"
    }
   ],
   "source": [
    "from sklearn.linear_model import LogisticRegression\n",
    "\n",
    "lgr = LogisticRegression(random_state= 42 )\n",
    "lgr.fit(X_res, y_res)\n",
    "\n",
    "lgr.score(X_test, y_test), lgr.score(X_train, y_train)"
   ]
  },
  {
   "cell_type": "code",
   "execution_count": 103,
   "metadata": {},
   "outputs": [
    {
     "data": {
      "text/plain": [
       "(0.7853982300884956, 0.9933586337760911)"
      ]
     },
     "execution_count": 103,
     "metadata": {},
     "output_type": "execute_result"
    }
   ],
   "source": [
    "from sklearn import svm\n",
    "svm = svm.SVC(random_state= 42)\n",
    "svm.fit(X_train, y_train)\n",
    "\n",
    "svm.score(X_test, y_test), svm.score(X_train, y_train)"
   ]
  },
  {
   "cell_type": "code",
   "execution_count": 104,
   "metadata": {},
   "outputs": [
    {
     "data": {
      "text/plain": [
       "(0.7809734513274337, 0.9971537001897534)"
      ]
     },
     "execution_count": 104,
     "metadata": {},
     "output_type": "execute_result"
    }
   ],
   "source": [
    "from sklearn.ensemble import RandomForestClassifier\n",
    "clf= RandomForestClassifier(n_estimators = 100, n_jobs = 1)\n",
    "clf.fit(X_train, y_train)\n",
    "\n",
    "clf.score(X_test, y_test), clf.score(X_train, y_train), "
   ]
  },
  {
   "cell_type": "code",
   "execution_count": 105,
   "metadata": {},
   "outputs": [
    {
     "data": {
      "text/plain": [
       "(0.5530973451327433, 0.6802656546489564)"
      ]
     },
     "execution_count": 105,
     "metadata": {},
     "output_type": "execute_result"
    }
   ],
   "source": [
    "from sklearn.neighbors import KNeighborsClassifier\n",
    "kn = KNeighborsClassifier(n_neighbors=3)\n",
    "kn.fit(X_train, y_train)\n",
    "\n",
    "kn.score(X_test, y_test), kn.score(X_train, y_train), "
   ]
  },
  {
   "cell_type": "markdown",
   "metadata": {},
   "source": [
    "## Prediction and evaluation"
   ]
  },
  {
   "cell_type": "code",
   "execution_count": 118,
   "metadata": {},
   "outputs": [],
   "source": [
    "y_pred =lgr.predict(X_test)"
   ]
  },
  {
   "cell_type": "code",
   "execution_count": 107,
   "metadata": {},
   "outputs": [],
   "source": [
    "from sklearn.metrics import classification_report, confusion_matrix"
   ]
  },
  {
   "cell_type": "code",
   "execution_count": 108,
   "metadata": {},
   "outputs": [
    {
     "name": "stdout",
     "output_type": "stream",
     "text": [
      "              precision    recall  f1-score   support\n",
      "\n",
      "    Negative       0.98      0.98      0.98       156\n",
      "     Neutral       0.97      0.96      0.97       142\n",
      "    Positive       0.98      0.99      0.98       154\n",
      "\n",
      "    accuracy                           0.98       452\n",
      "   macro avg       0.98      0.98      0.98       452\n",
      "weighted avg       0.98      0.98      0.98       452\n",
      "\n"
     ]
    }
   ],
   "source": [
    "cr = classification_report(y_test, y_pred)\n",
    "print(cr)"
   ]
  },
  {
   "cell_type": "code",
   "execution_count": 109,
   "metadata": {},
   "outputs": [
    {
     "data": {
      "text/html": [
       "<div>\n",
       "<style scoped>\n",
       "    .dataframe tbody tr th:only-of-type {\n",
       "        vertical-align: middle;\n",
       "    }\n",
       "\n",
       "    .dataframe tbody tr th {\n",
       "        vertical-align: top;\n",
       "    }\n",
       "\n",
       "    .dataframe thead th {\n",
       "        text-align: right;\n",
       "    }\n",
       "</style>\n",
       "<table border=\"1\" class=\"dataframe\">\n",
       "  <thead>\n",
       "    <tr style=\"text-align: right;\">\n",
       "      <th></th>\n",
       "      <th>Negative</th>\n",
       "      <th>Neutral</th>\n",
       "      <th>Positive</th>\n",
       "    </tr>\n",
       "  </thead>\n",
       "  <tbody>\n",
       "    <tr>\n",
       "      <th>Negative</th>\n",
       "      <td>153</td>\n",
       "      <td>2</td>\n",
       "      <td>1</td>\n",
       "    </tr>\n",
       "    <tr>\n",
       "      <th>Neutral</th>\n",
       "      <td>3</td>\n",
       "      <td>137</td>\n",
       "      <td>2</td>\n",
       "    </tr>\n",
       "    <tr>\n",
       "      <th>Positive</th>\n",
       "      <td>0</td>\n",
       "      <td>2</td>\n",
       "      <td>152</td>\n",
       "    </tr>\n",
       "  </tbody>\n",
       "</table>\n",
       "</div>"
      ],
      "text/plain": [
       "          Negative  Neutral  Positive\n",
       "Negative       153        2         1\n",
       "Neutral          3      137         2\n",
       "Positive         0        2       152"
      ]
     },
     "execution_count": 109,
     "metadata": {},
     "output_type": "execute_result"
    }
   ],
   "source": [
    "cm = confusion_matrix(y_test, y_pred)\n",
    "cm\n",
    "cmplot = pd.DataFrame(cm , columns=[\"Negative\",\"Neutral\",\"Positive\"], index=[\"Negative\",\"Neutral\",\"Positive\"])\n",
    "cmplot"
   ]
  },
  {
   "cell_type": "code",
   "execution_count": 110,
   "metadata": {},
   "outputs": [
    {
     "data": {
      "image/png": "[encoded data removed]",
      "text/plain": [
       "<Figure size 1368x432 with 2 Axes>"
      ]
     },
     "metadata": {},
     "output_type": "display_data"
    }
   ],
   "source": [
    "fig, ax = plt.subplots(figsize = (19,6))\n",
    "sns.heatmap(cmplot/np.sum(cmplot), fmt= '.1%' ,linewidth=0.3, cmap = 'Greens',xticklabels = True, annot =True)\n",
    "ax.set(title = 'Confusion Matrix', xlabel = 'Predicted Class', ylabel = 'Actual Class');"
   ]
  },
  {
   "cell_type": "markdown",
   "metadata": {},
   "source": [
    "# lets visualize and compare on bar chart"
   ]
  },
  {
   "cell_type": "markdown",
   "metadata": {},
   "source": [
    "## Save with joblib"
   ]
  },
  {
   "cell_type": "code",
   "execution_count": 111,
   "metadata": {},
   "outputs": [
    {
     "data": {
      "text/plain": [
       "['tweet_model.joblib']"
      ]
     },
     "execution_count": 111,
     "metadata": {},
     "output_type": "execute_result"
    }
   ],
   "source": [
    "import joblib\n",
    "joblib.dump(svm, 'tweet_model.joblib')"
   ]
  },
  {
   "cell_type": "code",
   "execution_count": 112,
   "metadata": {},
   "outputs": [],
   "source": [
    "import pickle\n",
    "pickle.dump(svm, open(\"tweet_model.pkl\", \"wb\"))"
   ]
  },
  {
   "cell_type": "markdown",
   "metadata": {},
   "source": [
    "# loading the model to compare the actual vs predicted in terms of counts"
   ]
  },
  {
   "cell_type": "code",
   "execution_count": 113,
   "metadata": {},
   "outputs": [],
   "source": [
    "loaded = joblib.load(\"tweet_model.joblib\")"
   ]
  },
  {
   "cell_type": "code",
   "execution_count": 114,
   "metadata": {},
   "outputs": [],
   "source": [
    "predicted = loaded.predict(X)"
   ]
  },
  {
   "cell_type": "code",
   "execution_count": 115,
   "metadata": {},
   "outputs": [
    {
     "data": {
      "text/html": [
       "<div>\n",
       "<style scoped>\n",
       "    .dataframe tbody tr th:only-of-type {\n",
       "        vertical-align: middle;\n",
       "    }\n",
       "\n",
       "    .dataframe tbody tr th {\n",
       "        vertical-align: top;\n",
       "    }\n",
       "\n",
       "    .dataframe thead th {\n",
       "        text-align: right;\n",
       "    }\n",
       "</style>\n",
       "<table border=\"1\" class=\"dataframe\">\n",
       "  <thead>\n",
       "    <tr style=\"text-align: right;\">\n",
       "      <th></th>\n",
       "      <th>_id</th>\n",
       "      <th>tweet_text</th>\n",
       "      <th>tweet_lang</th>\n",
       "      <th>tweet_sentiment_value</th>\n",
       "      <th>label</th>\n",
       "      <th>predicted</th>\n",
       "    </tr>\n",
       "  </thead>\n",
       "  <tbody>\n",
       "    <tr>\n",
       "      <th>1067</th>\n",
       "      <td>5969447f976f440300c0f4e1</td>\n",
       "      <td>govmikehuckabee airfrance i heard they have fa...</td>\n",
       "      <td>en</td>\n",
       "      <td>2</td>\n",
       "      <td>Positive</td>\n",
       "      <td>Neutral</td>\n",
       "    </tr>\n",
       "    <tr>\n",
       "      <th>514</th>\n",
       "      <td>59603501745dc32c7a70a940</td>\n",
       "      <td>airfrance would not let me direct message but ...</td>\n",
       "      <td>en</td>\n",
       "      <td>1</td>\n",
       "      <td>Neutral</td>\n",
       "      <td>Neutral</td>\n",
       "    </tr>\n",
       "    <tr>\n",
       "      <th>304</th>\n",
       "      <td>5963fe244fe31f4f52a02387</td>\n",
       "      <td>do not worry airfrance i will keep you updated...</td>\n",
       "      <td>en</td>\n",
       "      <td>0</td>\n",
       "      <td>Negative</td>\n",
       "      <td>Negative</td>\n",
       "    </tr>\n",
       "    <tr>\n",
       "      <th>508</th>\n",
       "      <td>5960229e745dc32c7a70a922</td>\n",
       "      <td>onemileatatime you think your 200k redemption ...</td>\n",
       "      <td>en</td>\n",
       "      <td>1</td>\n",
       "      <td>Neutral</td>\n",
       "      <td>Neutral</td>\n",
       "    </tr>\n",
       "    <tr>\n",
       "      <th>798</th>\n",
       "      <td>596474e14fe31f4f52a02411</td>\n",
       "      <td>airfrance your online system would not let me ...</td>\n",
       "      <td>en</td>\n",
       "      <td>1</td>\n",
       "      <td>Neutral</td>\n",
       "      <td>Neutral</td>\n",
       "    </tr>\n",
       "    <tr>\n",
       "      <th>907</th>\n",
       "      <td>596c69d5976f440300c0fafb</td>\n",
       "      <td>woman banned from air france after slapping ai...</td>\n",
       "      <td>en</td>\n",
       "      <td>1</td>\n",
       "      <td>Neutral</td>\n",
       "      <td>Neutral</td>\n",
       "    </tr>\n",
       "    <tr>\n",
       "      <th>101</th>\n",
       "      <td>595f8392745dc32c7a70a7a3</td>\n",
       "      <td>amelbenchikh airfrance afnewsroom airfrance su...</td>\n",
       "      <td>en</td>\n",
       "      <td>0</td>\n",
       "      <td>Negative</td>\n",
       "      <td>Neutral</td>\n",
       "    </tr>\n",
       "    <tr>\n",
       "      <th>586</th>\n",
       "      <td>59621741beec944b5ec2d470</td>\n",
       "      <td>jerome sullivan airfrance i guessed so used to...</td>\n",
       "      <td>en</td>\n",
       "      <td>1</td>\n",
       "      <td>Neutral</td>\n",
       "      <td>Neutral</td>\n",
       "    </tr>\n",
       "    <tr>\n",
       "      <th>216</th>\n",
       "      <td>5962be914fe31f4f52a02065</td>\n",
       "      <td>airfrance please send me my instrument and lug...</td>\n",
       "      <td>en</td>\n",
       "      <td>0</td>\n",
       "      <td>Negative</td>\n",
       "      <td>Negative</td>\n",
       "    </tr>\n",
       "    <tr>\n",
       "      <th>556</th>\n",
       "      <td>5960bddf745dc32c7a70aa31</td>\n",
       "      <td>richard purves airfrance chuck the peasants so...</td>\n",
       "      <td>en</td>\n",
       "      <td>1</td>\n",
       "      <td>Neutral</td>\n",
       "      <td>Neutral</td>\n",
       "    </tr>\n",
       "  </tbody>\n",
       "</table>\n",
       "</div>"
      ],
      "text/plain": [
       "                           _id  \\\n",
       "1067  5969447f976f440300c0f4e1   \n",
       "514   59603501745dc32c7a70a940   \n",
       "304   5963fe244fe31f4f52a02387   \n",
       "508   5960229e745dc32c7a70a922   \n",
       "798   596474e14fe31f4f52a02411   \n",
       "907   596c69d5976f440300c0fafb   \n",
       "101   595f8392745dc32c7a70a7a3   \n",
       "586   59621741beec944b5ec2d470   \n",
       "216   5962be914fe31f4f52a02065   \n",
       "556   5960bddf745dc32c7a70aa31   \n",
       "\n",
       "                                             tweet_text tweet_lang  \\\n",
       "1067  govmikehuckabee airfrance i heard they have fa...         en   \n",
       "514   airfrance would not let me direct message but ...         en   \n",
       "304   do not worry airfrance i will keep you updated...         en   \n",
       "508   onemileatatime you think your 200k redemption ...         en   \n",
       "798   airfrance your online system would not let me ...         en   \n",
       "907   woman banned from air france after slapping ai...         en   \n",
       "101   amelbenchikh airfrance afnewsroom airfrance su...         en   \n",
       "586   jerome sullivan airfrance i guessed so used to...         en   \n",
       "216   airfrance please send me my instrument and lug...         en   \n",
       "556   richard purves airfrance chuck the peasants so...         en   \n",
       "\n",
       "      tweet_sentiment_value     label predicted  \n",
       "1067                      2  Positive   Neutral  \n",
       "514                       1   Neutral   Neutral  \n",
       "304                       0  Negative  Negative  \n",
       "508                       1   Neutral   Neutral  \n",
       "798                       1   Neutral   Neutral  \n",
       "907                       1   Neutral   Neutral  \n",
       "101                       0  Negative   Neutral  \n",
       "586                       1   Neutral   Neutral  \n",
       "216                       0  Negative  Negative  \n",
       "556                       1   Neutral   Neutral  "
      ]
     },
     "execution_count": 115,
     "metadata": {},
     "output_type": "execute_result"
    }
   ],
   "source": [
    "retest = pd.concat([tweets,pd.DataFrame(predicted, columns =['predicted'])], ignore_index = False, axis =1)\n",
    "retest.sample(10)"
   ]
  },
  {
   "cell_type": "code",
   "execution_count": 116,
   "metadata": {},
   "outputs": [
    {
     "data": {
      "text/html": [
       "<div>\n",
       "<style scoped>\n",
       "    .dataframe tbody tr th:only-of-type {\n",
       "        vertical-align: middle;\n",
       "    }\n",
       "\n",
       "    .dataframe tbody tr th {\n",
       "        vertical-align: top;\n",
       "    }\n",
       "\n",
       "    .dataframe thead th {\n",
       "        text-align: right;\n",
       "    }\n",
       "</style>\n",
       "<table border=\"1\" class=\"dataframe\">\n",
       "  <thead>\n",
       "    <tr style=\"text-align: right;\">\n",
       "      <th></th>\n",
       "      <th>label</th>\n",
       "      <th>predicted</th>\n",
       "    </tr>\n",
       "  </thead>\n",
       "  <tbody>\n",
       "    <tr>\n",
       "      <th>Neutral</th>\n",
       "      <td>502</td>\n",
       "      <td>540</td>\n",
       "    </tr>\n",
       "    <tr>\n",
       "      <th>Negative</th>\n",
       "      <td>406</td>\n",
       "      <td>394</td>\n",
       "    </tr>\n",
       "    <tr>\n",
       "      <th>Positive</th>\n",
       "      <td>189</td>\n",
       "      <td>163</td>\n",
       "    </tr>\n",
       "  </tbody>\n",
       "</table>\n",
       "</div>"
      ],
      "text/plain": [
       "          label  predicted\n",
       "Neutral     502        540\n",
       "Negative    406        394\n",
       "Positive    189        163"
      ]
     },
     "execution_count": 116,
     "metadata": {},
     "output_type": "execute_result"
    }
   ],
   "source": [
    "compare = pd.concat([retest[\"label\"].value_counts(),retest[\"predicted\"].value_counts()], ignore_index = False, axis = 1)\n",
    "compare"
   ]
  },
  {
   "cell_type": "code",
   "execution_count": 117,
   "metadata": {},
   "outputs": [
    {
     "data": {
      "text/plain": [
       "<AxesSubplot:>"
      ]
     },
     "execution_count": 117,
     "metadata": {},
     "output_type": "execute_result"
    },
    {
     "data": {
      "image/png": "[encoded data removed]",
      "text/plain": [
       "<Figure size 432x288 with 1 Axes>"
      ]
     },
     "metadata": {},
     "output_type": "display_data"
    }
   ],
   "source": [
    "compare.plot(kind = \"bar\",)"
   ]
  },
  {
   "cell_type": "code",
   "execution_count": null,
   "metadata": {},
   "outputs": [],
   "source": []
  }
 ],
 "metadata": {
  "kernelspec": {
   "display_name": "Python 3.8.8 ('base')",
   "language": "python",
   "name": "python3"
  },
  "language_info": {
   "codemirror_mode": {
    "name": "ipython",
    "version": 3
   },
   "file_extension": ".py",
   "mimetype": "text/x-python",
   "name": "python",
   "nbconvert_exporter": "python",
   "pygments_lexer": "ipython3",
   "version": "3.8.8"
  },
  "orig_nbformat": 4,
  "vscode": {
   "interpreter": {
    "hash": "04432e9cb04e2fb3149b8a5784993b7cc60c7311097686f676b8575bd3fcad92"
   }
  }
 },
 "nbformat": 4,
 "nbformat_minor": 2
}
